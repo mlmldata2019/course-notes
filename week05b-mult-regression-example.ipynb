{
 "cells": [
  {
   "cell_type": "code",
   "execution_count": null,
   "metadata": {
    "collapsed": true
   },
   "outputs": [],
   "source": [
    "%matplotlib notebook\n",
    "import numpy as np\n",
    "import matplotlib.pyplot as plt\n",
    "import pandas as pd\n",
    "from scipy import stats\n",
    "import statsmodels.api as sm"
   ]
  },
  {
   "cell_type": "code",
   "execution_count": 1,
   "metadata": {
    "collapsed": true
   },
   "outputs": [],
   "source": [
    "filename = 'data/week03_wcoa_cruise/WCOA2013_hy1.csv'"
   ]
  },
  {
   "cell_type": "code",
   "execution_count": 4,
   "metadata": {},
   "outputs": [
    {
     "data": {
      "text/html": [
       "<div>\n",
       "<style>\n",
       "    .dataframe thead tr:only-child th {\n",
       "        text-align: right;\n",
       "    }\n",
       "\n",
       "    .dataframe thead th {\n",
       "        text-align: left;\n",
       "    }\n",
       "\n",
       "    .dataframe tbody tr th {\n",
       "        vertical-align: top;\n",
       "    }\n",
       "</style>\n",
       "<table border=\"1\" class=\"dataframe\">\n",
       "  <thead>\n",
       "    <tr style=\"text-align: right;\">\n",
       "      <th></th>\n",
       "      <th>DATE_TIME</th>\n",
       "      <th>EXPOCODE</th>\n",
       "      <th>SECT_ID</th>\n",
       "      <th>LEG</th>\n",
       "      <th>LINE</th>\n",
       "      <th>STNNBR</th>\n",
       "      <th>CASTNO</th>\n",
       "      <th>BTLNBR</th>\n",
       "      <th>BTLNBR_FLAG_W</th>\n",
       "      <th>LATITUDE</th>\n",
       "      <th>...</th>\n",
       "      <th>TCARBN</th>\n",
       "      <th>TCARBN_FLAG_W</th>\n",
       "      <th>ALKALI</th>\n",
       "      <th>ALKALI_FLAG_W</th>\n",
       "      <th>PH_TOT</th>\n",
       "      <th>PH_TOT_FLAG_W</th>\n",
       "      <th>PH_TMP</th>\n",
       "      <th>CO32</th>\n",
       "      <th>CO32__FLAG_W</th>\n",
       "      <th>CHLORA</th>\n",
       "    </tr>\n",
       "  </thead>\n",
       "  <tbody>\n",
       "    <tr>\n",
       "      <th>0</th>\n",
       "      <td>2013-08-05 02:12:20</td>\n",
       "      <td>317W20130803</td>\n",
       "      <td>WCOA2013</td>\n",
       "      <td>1</td>\n",
       "      <td>2</td>\n",
       "      <td>11</td>\n",
       "      <td>1</td>\n",
       "      <td>1</td>\n",
       "      <td>2</td>\n",
       "      <td>48.2</td>\n",
       "      <td>...</td>\n",
       "      <td>2370.2</td>\n",
       "      <td>2</td>\n",
       "      <td>2369.0</td>\n",
       "      <td>2</td>\n",
       "      <td>7.294</td>\n",
       "      <td>2</td>\n",
       "      <td>25.0</td>\n",
       "      <td>NaN</td>\n",
       "      <td>9</td>\n",
       "      <td>NaN</td>\n",
       "    </tr>\n",
       "    <tr>\n",
       "      <th>1</th>\n",
       "      <td>2013-08-05 02:12:53</td>\n",
       "      <td>317W20130803</td>\n",
       "      <td>WCOA2013</td>\n",
       "      <td>1</td>\n",
       "      <td>2</td>\n",
       "      <td>11</td>\n",
       "      <td>1</td>\n",
       "      <td>2</td>\n",
       "      <td>2</td>\n",
       "      <td>48.2</td>\n",
       "      <td>...</td>\n",
       "      <td>NaN</td>\n",
       "      <td>9</td>\n",
       "      <td>NaN</td>\n",
       "      <td>9</td>\n",
       "      <td>7.295</td>\n",
       "      <td>2</td>\n",
       "      <td>25.0</td>\n",
       "      <td>NaN</td>\n",
       "      <td>9</td>\n",
       "      <td>NaN</td>\n",
       "    </tr>\n",
       "    <tr>\n",
       "      <th>2</th>\n",
       "      <td>2013-08-05 02:19:58</td>\n",
       "      <td>317W20130803</td>\n",
       "      <td>WCOA2013</td>\n",
       "      <td>1</td>\n",
       "      <td>2</td>\n",
       "      <td>11</td>\n",
       "      <td>1</td>\n",
       "      <td>3</td>\n",
       "      <td>2</td>\n",
       "      <td>48.2</td>\n",
       "      <td>...</td>\n",
       "      <td>2349.6</td>\n",
       "      <td>2</td>\n",
       "      <td>2343.7</td>\n",
       "      <td>2</td>\n",
       "      <td>7.282</td>\n",
       "      <td>2</td>\n",
       "      <td>25.0</td>\n",
       "      <td>43.521</td>\n",
       "      <td>3</td>\n",
       "      <td>NaN</td>\n",
       "    </tr>\n",
       "    <tr>\n",
       "      <th>3</th>\n",
       "      <td>2013-08-05 02:27:01</td>\n",
       "      <td>317W20130803</td>\n",
       "      <td>WCOA2013</td>\n",
       "      <td>1</td>\n",
       "      <td>2</td>\n",
       "      <td>11</td>\n",
       "      <td>1</td>\n",
       "      <td>4</td>\n",
       "      <td>2</td>\n",
       "      <td>48.2</td>\n",
       "      <td>...</td>\n",
       "      <td>2318.7</td>\n",
       "      <td>2</td>\n",
       "      <td>2311.9</td>\n",
       "      <td>2</td>\n",
       "      <td>7.287</td>\n",
       "      <td>2</td>\n",
       "      <td>25.0</td>\n",
       "      <td>45.641</td>\n",
       "      <td>2</td>\n",
       "      <td>NaN</td>\n",
       "    </tr>\n",
       "    <tr>\n",
       "      <th>4</th>\n",
       "      <td>2013-08-05 02:30:53</td>\n",
       "      <td>317W20130803</td>\n",
       "      <td>WCOA2013</td>\n",
       "      <td>1</td>\n",
       "      <td>2</td>\n",
       "      <td>11</td>\n",
       "      <td>1</td>\n",
       "      <td>5</td>\n",
       "      <td>2</td>\n",
       "      <td>48.2</td>\n",
       "      <td>...</td>\n",
       "      <td>2300.0</td>\n",
       "      <td>2</td>\n",
       "      <td>2299.7</td>\n",
       "      <td>2</td>\n",
       "      <td>7.308</td>\n",
       "      <td>2</td>\n",
       "      <td>25.0</td>\n",
       "      <td>47.741</td>\n",
       "      <td>2</td>\n",
       "      <td>NaN</td>\n",
       "    </tr>\n",
       "  </tbody>\n",
       "</table>\n",
       "<p>5 rows × 42 columns</p>\n",
       "</div>"
      ],
      "text/plain": [
       "            DATE_TIME      EXPOCODE   SECT_ID  LEG LINE  STNNBR  CASTNO  \\\n",
       "0 2013-08-05 02:12:20  317W20130803  WCOA2013    1    2      11       1   \n",
       "1 2013-08-05 02:12:53  317W20130803  WCOA2013    1    2      11       1   \n",
       "2 2013-08-05 02:19:58  317W20130803  WCOA2013    1    2      11       1   \n",
       "3 2013-08-05 02:27:01  317W20130803  WCOA2013    1    2      11       1   \n",
       "4 2013-08-05 02:30:53  317W20130803  WCOA2013    1    2      11       1   \n",
       "\n",
       "   BTLNBR  BTLNBR_FLAG_W  LATITUDE   ...    TCARBN  TCARBN_FLAG_W  ALKALI  \\\n",
       "0       1              2      48.2   ...    2370.2              2  2369.0   \n",
       "1       2              2      48.2   ...       NaN              9     NaN   \n",
       "2       3              2      48.2   ...    2349.6              2  2343.7   \n",
       "3       4              2      48.2   ...    2318.7              2  2311.9   \n",
       "4       5              2      48.2   ...    2300.0              2  2299.7   \n",
       "\n",
       "   ALKALI_FLAG_W  PH_TOT  PH_TOT_FLAG_W  PH_TMP    CO32  CO32__FLAG_W  CHLORA  \n",
       "0              2   7.294              2    25.0     NaN             9     NaN  \n",
       "1              9   7.295              2    25.0     NaN             9     NaN  \n",
       "2              2   7.282              2    25.0  43.521             3     NaN  \n",
       "3              2   7.287              2    25.0  45.641             2     NaN  \n",
       "4              2   7.308              2    25.0  47.741             2     NaN  \n",
       "\n",
       "[5 rows x 42 columns]"
      ]
     },
     "execution_count": 4,
     "metadata": {},
     "output_type": "execute_result"
    }
   ],
   "source": [
    "df = pd.read_csv(filename,header=31,na_values=-999,parse_dates=[[8,9]])\n",
    "df.head()"
   ]
  },
  {
   "cell_type": "markdown",
   "metadata": {},
   "source": [
    "### Multiple regression exercise"
   ]
  },
  {
   "cell_type": "markdown",
   "metadata": {},
   "source": [
    "Goal is to predict pH based on the T,S,p,O2 using a standard multiple regression\n",
    "\n",
    "First create a subset of data:\n",
    "* Finite data (not NaN)\n",
    "* 30 > pressure > 300"
   ]
  },
  {
   "cell_type": "code",
   "execution_count": 13,
   "metadata": {},
   "outputs": [
    {
     "name": "stdout",
     "output_type": "stream",
     "text": [
      "N = 464\n"
     ]
    }
   ],
   "source": [
    "# CTDOXY, CTDSAL, CTDPRS, CTDTMP\n",
    "subdf = df[ (np.isfinite(df['CTDOXY']) &\n",
    "             np.isfinite(df['CTDTMP']) & \n",
    "             np.isfinite(df['CTDPRS']) & \n",
    "             np.isfinite(df['CTDSAL']) & \n",
    "             np.isfinite(df['PH_TOT']) &\n",
    "             (df['CTDPRS'] >= 30) & \n",
    "             (df['CTDPRS'] <= 300 ) )]\n",
    "\n",
    "index, = np.where((df['CTDPRS'] > 30) & (df['CTDPRS'] < 300) & np.isfinite(df['CTDOXY'] + df['CTDTMP'] + df['CTDPRS'] + df['CTDSAL']))\n",
    "\n",
    "print('N =',len(index))"
   ]
  },
  {
   "cell_type": "code",
   "execution_count": 14,
   "metadata": {},
   "outputs": [
    {
     "name": "stdout",
     "output_type": "stream",
     "text": [
      "[[   1.      197.8       6.7236   33.904   149.1   ]\n",
      " [   1.      153.7       7.205    33.817   124.4   ]\n",
      " [   1.      128.5       7.3828   33.67    155.6   ]\n",
      " ..., \n",
      " [   1.       60.5      10.7555   33.647   169.6   ]\n",
      " [   1.       40.4      11.437    33.606   221.9   ]\n",
      " [   1.       30.2      12.4522   33.589   247.6   ]]\n"
     ]
    }
   ],
   "source": [
    "# vector of pH\n",
    "y = subdf['PH_TOT']\n",
    "\n",
    "# matrix of predictor variables\n",
    "pres = subdf['CTDPRS']\n",
    "temp = subdf['CTDTMP']\n",
    "sal = subdf['CTDSAL']\n",
    "oxy = subdf['CTDOXY']\n",
    "A = np.array([np.ones(len(pres)),pres,temp,sal,oxy])\n",
    "A = np.transpose(A)\n",
    "\n",
    "print(A)"
   ]
  },
  {
   "cell_type": "markdown",
   "metadata": {},
   "source": [
    "Find the unknown coefficients that provide the best least squares fit."
   ]
  },
  {
   "cell_type": "code",
   "execution_count": 9,
   "metadata": {
    "collapsed": true
   },
   "outputs": [],
   "source": [
    "coeff = np.linalg.lstsq(A,y)[0]"
   ]
  },
  {
   "cell_type": "markdown",
   "metadata": {},
   "source": [
    "Plot the modeled vs. observed values and the residuals."
   ]
  },
  {
   "cell_type": "code",
   "execution_count": 16,
   "metadata": {},
   "outputs": [
    {
     "name": "stdout",
     "output_type": "stream",
     "text": [
      "R-Squared: 0.966327583834\n"
     ]
    },
    {
     "data": {
      "image/png": "[encoded data removed]",
      "text/plain": [
       "<matplotlib.figure.Figure at 0x1198b1470>"
      ]
     },
     "metadata": {},
     "output_type": "display_data"
    },
    {
     "data": {
      "image/png": "[encoded data removed]",
      "text/plain": [
       "<matplotlib.figure.Figure at 0x119d1ab00>"
      ]
     },
     "metadata": {},
     "output_type": "display_data"
    }
   ],
   "source": [
    "y_1 = coeff[0] + coeff[1]* pres + coeff[2]*temp + coeff[3]*sal + coeff[4]*oxy\n",
    "#OR\n",
    "y_1 = np.dot(A,coeff)\n",
    "\n",
    "residual = y_1 - y\n",
    "slope, intercept, r_value, p_value, std_err = stats.linregress(y,y_1)\n",
    "\n",
    "fig,ax = plt.subplots()\n",
    "ax.plot(y,y_1,'.')\n",
    "x_line = np.linspace(7.2,7.9,299)\n",
    "y_line = slope*x_line + intercept\n",
    "ax.plot(x_line,y_line)\n",
    "\n",
    "# Plot the residual\n",
    "fig,ax = plt.subplots()\n",
    "ax.plot(subdf['CTDPRS'],residual,'.')\n",
    "\n",
    "print('R-Squared:',r_value**2)"
   ]
  },
  {
   "cell_type": "markdown",
   "metadata": {},
   "source": [
    "The `statsmodels` package can provide statistical analysis on the significance of the least squares fit, including the F statistic and adjusted R-squared.\n",
    "\n",
    "See http://statsmodels.sourceforge.net/devel/examples/notebooks/generated/ols.html"
   ]
  },
  {
   "cell_type": "code",
   "execution_count": 10,
   "metadata": {},
   "outputs": [
    {
     "name": "stdout",
     "output_type": "stream",
     "text": [
      "                            OLS Regression Results                            \n",
      "==============================================================================\n",
      "Dep. Variable:                 PH_TOT   R-squared:                       0.966\n",
      "Model:                            OLS   Adj. R-squared:                  0.966\n",
      "Method:                 Least Squares   F-statistic:                     2992.\n",
      "Date:                Sat, 11 Mar 2017   Prob (F-statistic):          1.75e-305\n",
      "Time:                        09:33:41   Log-Likelihood:                 962.59\n",
      "No. Observations:                 422   AIC:                            -1915.\n",
      "Df Residuals:                     417   BIC:                            -1895.\n",
      "Df Model:                           4                                         \n",
      "Covariance Type:            nonrobust                                         \n",
      "==============================================================================\n",
      "                 coef    std err          t      P>|t|      [95.0% Conf. Int.]\n",
      "------------------------------------------------------------------------------\n",
      "const          7.0659      0.142     49.878      0.000         6.787     7.344\n",
      "x1             0.0004   2.78e-05     13.148      0.000         0.000     0.000\n",
      "x2             0.0252      0.001     20.759      0.000         0.023     0.028\n",
      "x3            -0.0030      0.004     -0.697      0.486        -0.011     0.005\n",
      "x4             0.0021   3.14e-05     65.418      0.000         0.002     0.002\n",
      "==============================================================================\n",
      "Omnibus:                      314.923   Durbin-Watson:                   1.454\n",
      "Prob(Omnibus):                  0.000   Jarque-Bera (JB):            14169.009\n",
      "Skew:                           2.642   Prob(JB):                         0.00\n",
      "Kurtosis:                      30.891   Cond. No.                     2.08e+04\n",
      "==============================================================================\n",
      "\n",
      "Warnings:\n",
      "[1] Standard Errors assume that the covariance matrix of the errors is correctly specified.\n",
      "[2] The condition number is large, 2.08e+04. This might indicate that there are\n",
      "strong multicollinearity or other numerical problems.\n"
     ]
    }
   ],
   "source": [
    "res = sm.OLS(y, A).fit()\n",
    "print(res.summary())"
   ]
  },
  {
   "cell_type": "markdown",
   "metadata": {},
   "source": [
    "### Notes\n",
    "* The R-squared and adjusted R-squared are high, but it would also be useful to compute the variance inflation factor to check for multicollinearity.\n",
    "* The warning about the high condition number occurs because we used variables with very different magnitudes. This can lead to problems like round-off errors when subtracting small number from big number. Standardizing the input variables and transforming them to z-scores would help solve this problem."
   ]
  },
  {
   "cell_type": "code",
   "execution_count": null,
   "metadata": {
    "collapsed": true
   },
   "outputs": [],
   "source": []
  }
 ],
 "metadata": {
  "anaconda-cloud": {},
  "kernelspec": {
   "display_name": "Python [default]",
   "language": "python",
   "name": "python3"
  },
  "language_info": {
   "codemirror_mode": {
    "name": "ipython",
    "version": 3
   },
   "file_extension": ".py",
   "mimetype": "text/x-python",
   "name": "python",
   "nbconvert_exporter": "python",
   "pygments_lexer": "ipython3",
   "version": "3.5.5"
  }
 },
 "nbformat": 4,
 "nbformat_minor": 2
}
